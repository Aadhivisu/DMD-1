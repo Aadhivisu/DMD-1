{
 "cells": [
  {
   "cell_type": "code",
   "execution_count": 2,
   "id": "1dfce499",
   "metadata": {},
   "outputs": [
    {
     "name": "stdout",
     "output_type": "stream",
     "text": [
      "COVID report database created and populated successfully!\n"
     ]
    }
   ],
   "source": [
    "import sqlite3\n",
    "import random\n",
    "\n",
    "# Connect to SQLite database\n",
    "conn = sqlite3.connect('Covid_Report.db')\n",
    "cursor = conn.cursor()\n",
    "\n",
    "# Drop table if it exists\n",
    "cursor.execute('''DROP TABLE IF EXISTS Patients''')\n",
    "\n",
    "# Create Patients table\n",
    "cursor.execute('''CREATE TABLE IF NOT EXISTS Patients (\n",
    "                    patient_id INTEGER PRIMARY KEY,\n",
    "                    first_name TEXT NOT NULL,\n",
    "                    last_name TEXT NOT NULL,\n",
    "                    age INTEGER,\n",
    "                    gender TEXT,\n",
    "                    symptoms TEXT,\n",
    "                    test_result TEXT,\n",
    "                    recovery_days INTEGER\n",
    "                )''')\n",
    "\n",
    "# Function to generate random data for Patients table\n",
    "def generate_covid_data(num_rows):\n",
    "    for _ in range(num_rows):\n",
    "        first_name = get_random_name()\n",
    "        last_name = get_random_name()\n",
    "        age = random.randint(1, 100)\n",
    "        gender = random.choice(['Male', 'Female'])\n",
    "        symptoms = random.choice(['Fever, Cough', 'Shortness of Breath', 'Fatigue', 'Sore Throat'])\n",
    "        test_result = random.choice(['Positive', 'Negative'])\n",
    "        recovery_days = random.randint(1, 30)\n",
    "        cursor.execute(\"insert into Patients (FIRST_NAME, LAST_NAME, AGE, GENDER, SYMPTOMS, TEST_RESULT, RECOVERY_DAYS) VALUES (?, ?, ?, ?, ?, ?, ?)\",\n",
    "                       (first_name, last_name, age, gender, symptoms, test_result, recovery_days))\n",
    "\n",
    "# Function to generate random names\n",
    "def get_random_name():\n",
    "    prefixes = ['John', 'Jane', 'Bob', 'Alice', 'Chris', 'Emma']\n",
    "    suffixes = ['Smith', 'Johnson', 'Williams', 'Jones', 'Brown', 'Davis']\n",
    "    return f\"{random.choice(prefixes)} {random.choice(suffixes)}\"\n",
    "\n",
    "# Generate random data for Patients table (at least 1000 rows)\n",
    "generate_covid_data(1000)\n",
    "\n",
    "# Commit changes and close connection\n",
    "conn.commit()\n",
    "conn.close()\n",
    "\n",
    "print(\"COVID report database created and populated successfully!\")"
   ]
  },
  {
   "cell_type": "code",
   "execution_count": null,
   "id": "a4b345e0",
   "metadata": {},
   "outputs": [],
   "source": []
  }
 ],
 "metadata": {
  "kernelspec": {
   "display_name": "Python 3 (ipykernel)",
   "language": "python",
   "name": "python3"
  },
  "language_info": {
   "codemirror_mode": {
    "name": "ipython",
    "version": 3
   },
   "file_extension": ".py",
   "mimetype": "text/x-python",
   "name": "python",
   "nbconvert_exporter": "python",
   "pygments_lexer": "ipython3",
   "version": "3.11.5"
  }
 },
 "nbformat": 4,
 "nbformat_minor": 5
}
